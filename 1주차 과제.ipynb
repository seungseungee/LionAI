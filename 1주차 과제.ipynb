{
  "nbformat": 4,
  "nbformat_minor": 0,
  "metadata": {
    "colab": {
      "name": "1주차 과제.ipynb",
      "provenance": [],
      "collapsed_sections": [],
      "authorship_tag": "ABX9TyNk9mWAmqI2q6kTS8mH3vu9",
      "include_colab_link": true
    },
    "kernelspec": {
      "name": "python3",
      "display_name": "Python 3"
    }
  },
  "cells": [
    {
      "cell_type": "markdown",
      "metadata": {
        "id": "view-in-github",
        "colab_type": "text"
      },
      "source": [
        "<a href=\"https://colab.research.google.com/github/seungseungee/LionAI/blob/master/1%EC%A3%BC%EC%B0%A8%20%EA%B3%BC%EC%A0%9C.ipynb\" target=\"_parent\"><img src=\"https://colab.research.google.com/assets/colab-badge.svg\" alt=\"Open In Colab\"/></a>"
      ]
    },
    {
      "cell_type": "markdown",
      "metadata": {
        "id": "_b6zmHTsffK5",
        "colab_type": "text"
      },
      "source": [
        "#1주차 과제\n",
        "##인공지능 사례 분석\n",
        "\n",
        "###1. 언어 - 파파고\n",
        "\n",
        "* 2016년 인공신경망 기술 적용\n",
        "* 이전의 번역 프로그램은 SMT 기반\n",
        "  - SMT(Statistical Machine Translation)란?   \n",
        "      문장을 단어 또는 몇 개의 단어가 모인 구 단위로 쪼갠 뒤 통계적 모델에 기반해 번역하는 방식\n",
        "* NMT 방식 도입\n",
        "  - NMT(Neural Machine Translation)란?   \n",
        "  인공신경망을 통해 문장을 이해하고 번역하는 방식\n",
        "  - 입력 문장을 벡터로 바꿔 저장하고 유사한 뜻을 가진 문장은 서로 가깝게 위치하여 문장의 맥락 이해\n",
        "  - N2MT(Naver NMT) 기술 도입하여 1,000차원 벡터 활용\n",
        "* NMT의 성능은 SMT 보다 더 큰 성능 향상을 보임\n",
        "* 네이버 서비스를 통해 쌓인 대규모 데이터로 매일 자동 학습\n",
        "\n",
        "\n",
        "###2. 음성 - 구글 어시스턴트\n",
        "\n",
        "* 2016년 구글 자체 개발자 콘퍼런스에서 발표\n",
        "* 구글의 자회사 딥마인드의 웨이브넷 기술을 적용하여 TTS 시스템 개선\n",
        "  - TTS(text-to-speech sysnthesis)란?   \n",
        "  문자를 소리로 바꿔 전달하는 기술\n",
        "* 웨이브넷 기술의 전과 후\n",
        "  - 이전\n",
        "    + 녹음된 발음이나 단어를 분할하거나 결합하여 새로운 발음을 형성하므로 부자연스러움\n",
        "  - 이후\n",
        "    + 트레이닝 단계에서 음조와 파형과 같은 음성의 기본 구조 결정(억양 및 발음 반영)\n",
        "    + 결과로 나온 음성에 고유 목소리 합성하므로 소리 간 연결의 필요성 제거   \n",
        "    + 실제 인간 음성과의 격차를 50% 이상 줄임   \n",
        "    + 원래 모델보다 1,000배 빠른 속도로 음성 생성\n",
        "\n",
        "\n",
        "###3. 이미지 - 바이두 딥이미지\n",
        "* 2015년 바이두에서 이미지 인식 발표\n",
        "* 당시 이미지 감별 오류율 5.98%로 세계 최고 기록(사람의 오류율은 5.1%)\n",
        "* end-to-end 딥러닝을 이용하여 개발\n",
        "  - end-to-end 딥러닝이란?   \n",
        "  차료처리 시스템에서 여러 단계의 필요한 처리과정을 한 번에 처리하는 방법\n",
        "* 자사 슈퍼컴퓨터 Minwa에 컴퓨터 비전 시스템 딥이미지 구축\n",
        "  - 컴퓨터 비전이란?   \n",
        "  컴퓨터를 사용해 인간의 시각적인 인식 능력 일반을 재현하는 연구 분야\n",
        "* 이미지 변형이 있어도 이미지 인식 가능\n",
        "\n",
        "###4. 자율주행 - 현대자동차 SCC-ML\n",
        "* ADAS의 주요 기술 중 하나\n",
        "  - ADAS(Advanced Driver Assistance Systems)란?   \n",
        "  운전 중 스스로 주변 환경을 인식, 판단하며 운전자의 조작을 최소화하며 운전을 돕는 기술\n",
        "* 기존의 SCC에서 AI기술을 더해 SCC-ML 개발\n",
        "  - SCC(Smart Cruise Control)란?   \n",
        "  속도 설정, 앞차와의 거리 조절 등의 기능\n",
        "  - SCC-ML(Smart Cruise Control-Machine Learning)이란?   \n",
        "  SCC에 인공지능 기술인 머신러닝을 기반으로 운전차 주행 성향을 파악하여 이질감 없는 운전자 맞춤형 SCC 구현\n",
        "* SCC-ML의 구현 원리\n",
        "  1. 전방카메라, 레이더 등 센서가 주행 상황의 정보 지속적 수집하여 ADAS 제어 컴퓨터로 전송\n",
        "  2. 제어컴퓨터는 운전자의 주행 습관 판단 가능한 정보만 추출\n",
        "  3. 이를 통해 주행 패턴 판단하여 자율주행 구현\n",
        "* 제어컴퓨터의 역할?   \n",
        "  ADAS 기술을 관장하는 두뇌로 센서로부터 각종 정보를 받아 여러 신호 정보를 정리해 하나의 인터페이스로 처리하는 '센서 퓨전' 기술을 통해 주행 패턴을 결정\n",
        "* 주행 패턴 학습에 약 1시간 정도 소요되며 이후 주행 정보 지속적으로 업데이트하여 최근 성향 반영\n"
      ]
    }
  ]
}
